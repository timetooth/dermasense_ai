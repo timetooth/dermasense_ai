{
 "cells": [
  {
   "cell_type": "markdown",
   "metadata": {},
   "source": [
    "## Research\n",
    "- https://challenge.isic-archive.com/landing/2018/\n",
    "- https://www.nature.com/articles/s41598-022-22644-9  \n",
    "    - focuses on data augmentation\n",
    "    - feature extraction on the bases of colour shape and texture\n",
    "- https://www.ncbi.nlm.nih.gov/pmc/articles/PMC8074091/\n",
    "    - solve imbalance\n",
    "- https://www.sciencedirect.com/science/article/pii/S2772442522000624\n",
    "    - best one yet"
   ]
  },
  {
   "cell_type": "markdown",
   "metadata": {},
   "source": [
    "### More research\n",
    "- https://www.ncbi.nlm.nih.gov/pmc/articles/PMC8074091/ - using mobilenet"
   ]
  }
 ],
 "metadata": {
  "kernelspec": {
   "display_name": "base",
   "language": "python",
   "name": "python3"
  },
  "language_info": {
   "name": "python",
   "version": "3.11.4"
  }
 },
 "nbformat": 4,
 "nbformat_minor": 2
}
